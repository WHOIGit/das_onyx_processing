{
 "cells": [
  {
   "cell_type": "markdown",
   "metadata": {},
   "source": [
    "# Routines to create decimated DAS datasets\n",
    "- read h5 into xarray\n",
    "- concatenate 1-minute files into longer (e.g., 30-min) chunks\n",
    "- filter w butterworth for wave frequencies\n",
    "- decimate (to 5 Hz)\n",
    "- save 30-min decimated to netcdf"
   ]
  },
  {
   "cell_type": "code",
   "execution_count": 1,
   "metadata": {},
   "outputs": [],
   "source": [
    "import pandas as pd\n",
    "import numpy as np\n",
    "import h5py as h5\n",
    "from matplotlib import pyplot as plt\n",
    "from datetime import date, datetime\n",
    "import xarray as xr\n",
    "import glob\n",
    "from scipy import signal\n",
    "from joblib import Parallel, delayed\n",
    "import time as tm\n",
    "from datetime import timedelta"
   ]
  },
  {
   "cell_type": "code",
   "execution_count": 2,
   "metadata": {},
   "outputs": [],
   "source": [
    "def datetime_range(start, end, delta):\n",
    "    current = start\n",
    "    while current < end:\n",
    "        yield current\n",
    "        current += delta"
   ]
  },
  {
   "cell_type": "code",
   "execution_count": 3,
   "metadata": {},
   "outputs": [],
   "source": [
    "def load_h5_into_xr_chunk(base_path, time_target, time_chunk):\n",
    "    #file names for all files including times within the 30 min chunk\n",
    "    files_target_chunk = [ glob.glob(onyx_path + '*' + datetime.strftime(time_temp,'%Y-%m-%d_%H.%M') +'*.h5') for time_temp in \n",
    "           datetime_range(time_target-timedelta(minutes=1), time_target + timedelta(minutes=time_chunk), \n",
    "           timedelta(minutes=1))]\n",
    "    for fi in files_target_chunk:\n",
    "        #fi = files_target_chunk[0]\n",
    "        if not fi:\n",
    "            print(\"List is empty\")\n",
    "            continue\n",
    "        else: #only continue if there is a fule \n",
    "                \n",
    "            f = h5.File(fi[0],'r')\n",
    "\n",
    "            #data and key parameters\n",
    "            f_data = np.array(f['Acquisition']['Raw[0]']['RawData'])\n",
    "            f_sampcount = np.array(f['Acquisition']['Raw[0]']['RawDataSampleCount'])\n",
    "            channels = np.arange(0,f_data.shape[1])*f['Acquisition'].attrs['SpatialSamplingInterval']\n",
    "\n",
    "            #create actual times, where file time is in microseconds from #\n",
    "            file_timestr = fi[0].split('/')[-1][10:-7]\n",
    "            #print(file_timestr)\n",
    "            file_datetime = datetime.strptime(file_timestr, '%Y-%m-%d_%H.%M.%S')\n",
    "            f_seconds = f_data.shape[0]/f['Acquisition'].attrs['PulseRate'] #length of time, in seconds, of array\n",
    "            dt_ms = 1000000/f['Acquisition'].attrs['PulseRate'] #time in ms between each ...at 250 Hz, 4000 micros between each timestep\n",
    "\n",
    "            f_time = [dt for dt in \n",
    "                   datetime_range(file_datetime, file_datetime + timedelta(seconds=f_seconds), \n",
    "                   timedelta(microseconds=dt_ms))]\n",
    "\n",
    "            data_DAS = {'strain':(['time','channels'], f_data, \n",
    "                                {'units':'',\n",
    "                               'long_name':'strain data'})}\n",
    "\n",
    "            # define coordinates\n",
    "            coords = {'time': (['time'], f_time),\n",
    "                      'channels': (['channels'], channels)}\n",
    "            #define attributes, all from hdf5 file\n",
    "            attrs = dict()\n",
    "            for fi,fi_attr in enumerate(f['Acquisition'].attrs.keys()):\n",
    "                if isinstance(f['Acquisition'].attrs[fi_attr], bytes):\n",
    "                    attrs[fi_attr] = f['Acquisition'].attrs[fi_attr].decode(\"utf-8\")\n",
    "                else:\n",
    "                    attrs[fi_attr] = f['Acquisition'].attrs[fi_attr] \n",
    "\n",
    "            #create dataset\n",
    "            ds_DAS = xr.Dataset(data_vars=data_DAS, \n",
    "                            coords=coords)\n",
    "\n",
    "            if 'ds_DAS_chunk' in locals():\n",
    "                ds_DAS_chunk = xr.merge([ds_DAS_chunk,ds_DAS])\n",
    "            else:\n",
    "                ds_DAS_chunk = ds_DAS\n",
    "    ds_DAS_chunk = ds_DAS_chunk.assign_attrs(attrs)\n",
    "    \n",
    "    #select exactly the 30 minutes from the full combined array\n",
    "    fs = ds_DAS_chunk.attrs['PulseRate']\n",
    "    ds_DAS_chunk = ds_DAS_chunk.sel(time=slice(time_target, time_target+timedelta(minutes=time_chunk)))\n",
    "    if len(ds_DAS_chunk.time) < time_chunk*fs*60:\n",
    "        print('Stop, missing data: '+str(len(ds_DAS_chunk.time)) + ' should be ' + str(time_chunk*ds_DAS_chunk.attrs['PulseRate']*60)) \n",
    "\n",
    "    return ds_DAS_chunk\n"
   ]
  },
  {
   "cell_type": "code",
   "execution_count": 4,
   "metadata": {},
   "outputs": [
    {
     "data": {
      "text/plain": [
       "\"        f_seconds = f_data.shape[0]/f['Acquisition'].attrs['PulseRate'] #length of time, in seconds, of array\\n        dt_ms = 1000000/f['Acquisition'].attrs['PulseRate'] #time in ms between each ...at 250 Hz, 4000 micros between each timestep\\n        \\n        f_time = [dt for dt in \\n               datetime_range(file_datetime, file_datetime + timedelta(seconds=f_seconds), \\n               timedelta(microseconds=dt_ms))]\\n               \\n               \""
      ]
     },
     "execution_count": 4,
     "metadata": {},
     "output_type": "execute_result"
    }
   ],
   "source": [
    "\"\"\"        f_seconds = f_data.shape[0]/f['Acquisition'].attrs['PulseRate'] #length of time, in seconds, of array\n",
    "        dt_ms = 1000000/f['Acquisition'].attrs['PulseRate'] #time in ms between each ...at 250 Hz, 4000 micros between each timestep\n",
    "        \n",
    "        f_time = [dt for dt in \n",
    "               datetime_range(file_datetime, file_datetime + timedelta(seconds=f_seconds), \n",
    "               timedelta(microseconds=dt_ms))]\n",
    "               \n",
    "               \"\"\""
   ]
  },
  {
   "cell_type": "code",
   "execution_count": 5,
   "metadata": {},
   "outputs": [],
   "source": [
    "def das_butterworth_decimate_xarray(ds_DAS_chunk, fs_target):\n",
    "    \n",
    "    #“t_inc\" parameter is the an integer representing the multiples you need to downsample\n",
    "    #where fs is the original sampling rate and 50 is the frequency you want\n",
    "    fs = ds_DAS_chunk.attrs['PulseRate']\n",
    "    t_inc = int(fs/fs_target) \n",
    "\n",
    "    #initialize empty nan array for decimated data\n",
    "    ds_DAS_deci = np.empty((len(ds_DAS_chunk.time[0::t_inc]),len(ds_DAS_chunk.channels)))\n",
    "    ds_DAS_deci[:] = np.nan\n",
    "\n",
    "    #butterworth filter, use for surface waves\n",
    "\n",
    "    #define butterworth filter \n",
    "    cutoff = fs_target #desire cutoff frequency of filter, Hz\n",
    "    nyq = 0.5*fs #nyquist frequency\n",
    "    order = 1\n",
    "    normal_cutoff = cutoff/nyq\n",
    "    b_butter, a_butter = signal.butter(order,normal_cutoff,btype='low',analog=False)\n",
    "\n",
    "    for i, ci in enumerate(ds_DAS_chunk.channels.values):\n",
    "        strain = ds_DAS_chunk.strain.transpose().values[i]\n",
    "        strain_butter = signal.filtfilt(b_butter, a_butter, strain)\n",
    "        strain_deci_butter = strain_butter[::t_inc]\n",
    "        ds_DAS_deci[:,i] = strain_deci_butter\n",
    "\n",
    "    #make xarray\n",
    "\n",
    "    attrs_deci = attrs\n",
    "    attrs_deci['PulseRateDecimated']=fs_target\n",
    "    attrs_deci['DecimationFilterType']='butterworth'\n",
    "\n",
    "    coords = {'time': (['time'], ds_DAS_chunk.time[0::t_inc]),\n",
    "                  'channels': (['channels'], channels)}\n",
    "\n",
    "    data_deci = {'strain':(['time','channels'], ds_DAS_deci, \n",
    "                            {'units':'',\n",
    "                           'long_name':'decimated strain data'})}\n",
    "    strain_deci_butter_all = xr.Dataset(data_vars=data_deci,coords=coords,attrs=attrs_deci)\n",
    "    \n",
    "    return strain_deci_butter_all"
   ]
  },
  {
   "cell_type": "markdown",
   "metadata": {},
   "source": [
    "## Create 5 Hz decimated dataset for waves"
   ]
  },
  {
   "cell_type": "code",
   "execution_count": 262,
   "metadata": {},
   "outputs": [
    {
     "name": "stdout",
     "output_type": "stream",
     "text": [
      "2023-11-23 00:30:00, current time 2024-06-10 16:55:12.240306\n",
      "[['/Volumes/OnyxDASdata/FEB_DATA/decimator_2023-11-23_00.29.37_UTC.h5'], ['/Volumes/OnyxDASdata/FEB_DATA/decimator_2023-11-23_00.30.37_UTC.h5'], ['/Volumes/OnyxDASdata/FEB_DATA/decimator_2023-11-23_00.31.37_UTC.h5'], ['/Volumes/OnyxDASdata/FEB_DATA/decimator_2023-11-23_00.32.37_UTC.h5'], ['/Volumes/OnyxDASdata/FEB_DATA/decimator_2023-11-23_00.33.37_UTC.h5'], ['/Volumes/OnyxDASdata/FEB_DATA/decimator_2023-11-23_00.34.37_UTC.h5'], ['/Volumes/OnyxDASdata/FEB_DATA/decimator_2023-11-23_00.35.37_UTC.h5'], [], ['/Volumes/OnyxDASdata/FEB_DATA/decimator_2023-11-23_00.37.20_UTC.h5'], ['/Volumes/OnyxDASdata/FEB_DATA/decimator_2023-11-23_00.38.20_UTC.h5'], ['/Volumes/OnyxDASdata/FEB_DATA/decimator_2023-11-23_00.39.20_UTC.h5'], ['/Volumes/OnyxDASdata/FEB_DATA/decimator_2023-11-23_00.40.20_UTC.h5'], ['/Volumes/OnyxDASdata/FEB_DATA/decimator_2023-11-23_00.41.20_UTC.h5'], ['/Volumes/OnyxDASdata/FEB_DATA/decimator_2023-11-23_00.42.20_UTC.h5'], ['/Volumes/OnyxDASdata/FEB_DATA/decimator_2023-11-23_00.43.20_UTC.h5'], ['/Volumes/OnyxDASdata/FEB_DATA/decimator_2023-11-23_00.44.20_UTC.h5'], ['/Volumes/OnyxDASdata/FEB_DATA/decimator_2023-11-23_00.45.20_UTC.h5'], ['/Volumes/OnyxDASdata/FEB_DATA/decimator_2023-11-23_00.46.20_UTC.h5'], ['/Volumes/OnyxDASdata/FEB_DATA/decimator_2023-11-23_00.47.20_UTC.h5'], ['/Volumes/OnyxDASdata/FEB_DATA/decimator_2023-11-23_00.48.20_UTC.h5'], ['/Volumes/OnyxDASdata/FEB_DATA/decimator_2023-11-23_00.49.20_UTC.h5'], ['/Volumes/OnyxDASdata/FEB_DATA/decimator_2023-11-23_00.50.20_UTC.h5'], ['/Volumes/OnyxDASdata/FEB_DATA/decimator_2023-11-23_00.51.20_UTC.h5'], ['/Volumes/OnyxDASdata/FEB_DATA/decimator_2023-11-23_00.52.20_UTC.h5'], ['/Volumes/OnyxDASdata/FEB_DATA/decimator_2023-11-23_00.53.20_UTC.h5'], ['/Volumes/OnyxDASdata/FEB_DATA/decimator_2023-11-23_00.54.20_UTC.h5'], ['/Volumes/OnyxDASdata/FEB_DATA/decimator_2023-11-23_00.55.20_UTC.h5'], ['/Volumes/OnyxDASdata/FEB_DATA/decimator_2023-11-23_00.56.20_UTC.h5'], ['/Volumes/OnyxDASdata/FEB_DATA/decimator_2023-11-23_00.57.20_UTC.h5'], ['/Volumes/OnyxDASdata/FEB_DATA/decimator_2023-11-23_00.58.20_UTC.h5'], ['/Volumes/OnyxDASdata/FEB_DATA/decimator_2023-11-23_00.59.20_UTC.h5']]\n",
      "List is empty\n",
      "Stop, missing data: 433251 should be 450000.0\n",
      "2023-11-23 01:00:00, current time 2024-06-10 17:02:16.794689\n",
      "[['/Volumes/OnyxDASdata/FEB_DATA/decimator_2023-11-23_00.59.20_UTC.h5'], ['/Volumes/OnyxDASdata/FEB_DATA/decimator_2023-11-23_01.00.20_UTC.h5'], ['/Volumes/OnyxDASdata/FEB_DATA/decimator_2023-11-23_01.01.20_UTC.h5'], ['/Volumes/OnyxDASdata/FEB_DATA/decimator_2023-11-23_01.02.20_UTC.h5'], ['/Volumes/OnyxDASdata/FEB_DATA/decimator_2023-11-23_01.03.20_UTC.h5'], ['/Volumes/OnyxDASdata/FEB_DATA/decimator_2023-11-23_01.04.20_UTC.h5'], ['/Volumes/OnyxDASdata/FEB_DATA/decimator_2023-11-23_01.05.20_UTC.h5'], ['/Volumes/OnyxDASdata/FEB_DATA/decimator_2023-11-23_01.06.20_UTC.h5'], ['/Volumes/OnyxDASdata/FEB_DATA/decimator_2023-11-23_01.07.20_UTC.h5'], ['/Volumes/OnyxDASdata/FEB_DATA/decimator_2023-11-23_01.08.20_UTC.h5'], ['/Volumes/OnyxDASdata/FEB_DATA/decimator_2023-11-23_01.09.20_UTC.h5'], ['/Volumes/OnyxDASdata/FEB_DATA/decimator_2023-11-23_01.10.20_UTC.h5'], ['/Volumes/OnyxDASdata/FEB_DATA/decimator_2023-11-23_01.11.20_UTC.h5'], ['/Volumes/OnyxDASdata/FEB_DATA/decimator_2023-11-23_01.12.20_UTC.h5'], ['/Volumes/OnyxDASdata/FEB_DATA/decimator_2023-11-23_01.13.20_UTC.h5'], ['/Volumes/OnyxDASdata/FEB_DATA/decimator_2023-11-23_01.14.20_UTC.h5'], ['/Volumes/OnyxDASdata/FEB_DATA/decimator_2023-11-23_01.15.20_UTC.h5'], ['/Volumes/OnyxDASdata/FEB_DATA/decimator_2023-11-23_01.16.20_UTC.h5'], ['/Volumes/OnyxDASdata/FEB_DATA/decimator_2023-11-23_01.17.20_UTC.h5'], ['/Volumes/OnyxDASdata/FEB_DATA/decimator_2023-11-23_01.18.20_UTC.h5'], ['/Volumes/OnyxDASdata/FEB_DATA/decimator_2023-11-23_01.19.20_UTC.h5'], ['/Volumes/OnyxDASdata/FEB_DATA/decimator_2023-11-23_01.20.20_UTC.h5'], ['/Volumes/OnyxDASdata/FEB_DATA/decimator_2023-11-23_01.21.20_UTC.h5'], ['/Volumes/OnyxDASdata/FEB_DATA/decimator_2023-11-23_01.22.20_UTC.h5'], ['/Volumes/OnyxDASdata/FEB_DATA/decimator_2023-11-23_01.23.20_UTC.h5'], ['/Volumes/OnyxDASdata/FEB_DATA/decimator_2023-11-23_01.24.20_UTC.h5'], ['/Volumes/OnyxDASdata/FEB_DATA/decimator_2023-11-23_01.25.20_UTC.h5'], ['/Volumes/OnyxDASdata/FEB_DATA/decimator_2023-11-23_01.26.20_UTC.h5'], ['/Volumes/OnyxDASdata/FEB_DATA/decimator_2023-11-23_01.27.20_UTC.h5'], ['/Volumes/OnyxDASdata/FEB_DATA/decimator_2023-11-23_01.28.20_UTC.h5'], ['/Volumes/OnyxDASdata/FEB_DATA/decimator_2023-11-23_01.29.20_UTC.h5']]\n",
      "2023-11-23 01:30:00, current time 2024-06-10 17:10:18.231560\n",
      "[['/Volumes/OnyxDASdata/FEB_DATA/decimator_2023-11-23_01.29.20_UTC.h5'], ['/Volumes/OnyxDASdata/FEB_DATA/decimator_2023-11-23_01.30.20_UTC.h5'], ['/Volumes/OnyxDASdata/FEB_DATA/decimator_2023-11-23_01.31.20_UTC.h5'], ['/Volumes/OnyxDASdata/FEB_DATA/decimator_2023-11-23_01.32.20_UTC.h5'], ['/Volumes/OnyxDASdata/FEB_DATA/decimator_2023-11-23_01.33.20_UTC.h5'], ['/Volumes/OnyxDASdata/FEB_DATA/decimator_2023-11-23_01.34.20_UTC.h5'], ['/Volumes/OnyxDASdata/FEB_DATA/decimator_2023-11-23_01.35.20_UTC.h5'], ['/Volumes/OnyxDASdata/FEB_DATA/decimator_2023-11-23_01.36.20_UTC.h5'], ['/Volumes/OnyxDASdata/FEB_DATA/decimator_2023-11-23_01.37.20_UTC.h5'], ['/Volumes/OnyxDASdata/FEB_DATA/decimator_2023-11-23_01.38.20_UTC.h5'], ['/Volumes/OnyxDASdata/FEB_DATA/decimator_2023-11-23_01.39.20_UTC.h5'], ['/Volumes/OnyxDASdata/FEB_DATA/decimator_2023-11-23_01.40.20_UTC.h5'], ['/Volumes/OnyxDASdata/FEB_DATA/decimator_2023-11-23_01.41.20_UTC.h5'], ['/Volumes/OnyxDASdata/FEB_DATA/decimator_2023-11-23_01.42.20_UTC.h5'], ['/Volumes/OnyxDASdata/FEB_DATA/decimator_2023-11-23_01.43.20_UTC.h5'], ['/Volumes/OnyxDASdata/FEB_DATA/decimator_2023-11-23_01.44.20_UTC.h5'], ['/Volumes/OnyxDASdata/FEB_DATA/decimator_2023-11-23_01.45.20_UTC.h5'], ['/Volumes/OnyxDASdata/FEB_DATA/decimator_2023-11-23_01.46.20_UTC.h5'], ['/Volumes/OnyxDASdata/FEB_DATA/decimator_2023-11-23_01.47.20_UTC.h5'], ['/Volumes/OnyxDASdata/FEB_DATA/decimator_2023-11-23_01.48.20_UTC.h5'], ['/Volumes/OnyxDASdata/FEB_DATA/decimator_2023-11-23_01.49.20_UTC.h5'], ['/Volumes/OnyxDASdata/FEB_DATA/decimator_2023-11-23_01.50.20_UTC.h5'], ['/Volumes/OnyxDASdata/FEB_DATA/decimator_2023-11-23_01.51.20_UTC.h5'], ['/Volumes/OnyxDASdata/FEB_DATA/decimator_2023-11-23_01.52.20_UTC.h5'], ['/Volumes/OnyxDASdata/FEB_DATA/decimator_2023-11-23_01.53.20_UTC.h5'], ['/Volumes/OnyxDASdata/FEB_DATA/decimator_2023-11-23_01.54.20_UTC.h5'], ['/Volumes/OnyxDASdata/FEB_DATA/decimator_2023-11-23_01.55.20_UTC.h5'], ['/Volumes/OnyxDASdata/FEB_DATA/decimator_2023-11-23_01.56.20_UTC.h5'], ['/Volumes/OnyxDASdata/FEB_DATA/decimator_2023-11-23_01.57.20_UTC.h5'], ['/Volumes/OnyxDASdata/FEB_DATA/decimator_2023-11-23_01.58.20_UTC.h5'], ['/Volumes/OnyxDASdata/FEB_DATA/decimator_2023-11-23_01.59.20_UTC.h5']]\n",
      "Stop, missing data: 442441 should be 450000.0\n",
      "2023-11-23 02:00:00, current time 2024-06-10 17:20:04.927630\n",
      "[['/Volumes/OnyxDASdata/FEB_DATA/decimator_2023-11-23_01.59.20_UTC.h5'], ['/Volumes/OnyxDASdata/FEB_DATA/decimator_2023-11-23_02.00.20_UTC.h5'], ['/Volumes/OnyxDASdata/FEB_DATA/decimator_2023-11-23_02.01.20_UTC.h5'], ['/Volumes/OnyxDASdata/FEB_DATA/decimator_2023-11-23_02.02.20_UTC.h5'], [], ['/Volumes/OnyxDASdata/FEB_DATA/decimator_2023-11-23_02.04.22_UTC.h5'], ['/Volumes/OnyxDASdata/FEB_DATA/decimator_2023-11-23_02.05.22_UTC.h5'], ['/Volumes/OnyxDASdata/FEB_DATA/decimator_2023-11-23_02.06.22_UTC.h5'], ['/Volumes/OnyxDASdata/FEB_DATA/decimator_2023-11-23_02.07.22_UTC.h5'], ['/Volumes/OnyxDASdata/FEB_DATA/decimator_2023-11-23_02.08.22_UTC.h5'], ['/Volumes/OnyxDASdata/FEB_DATA/decimator_2023-11-23_02.09.22_UTC.h5'], ['/Volumes/OnyxDASdata/FEB_DATA/decimator_2023-11-23_02.10.22_UTC.h5'], ['/Volumes/OnyxDASdata/FEB_DATA/decimator_2023-11-23_02.11.22_UTC.h5'], ['/Volumes/OnyxDASdata/FEB_DATA/decimator_2023-11-23_02.12.22_UTC.h5'], ['/Volumes/OnyxDASdata/FEB_DATA/decimator_2023-11-23_02.13.22_UTC.h5'], ['/Volumes/OnyxDASdata/FEB_DATA/decimator_2023-11-23_02.14.22_UTC.h5'], ['/Volumes/OnyxDASdata/FEB_DATA/decimator_2023-11-23_02.15.22_UTC.h5'], ['/Volumes/OnyxDASdata/FEB_DATA/decimator_2023-11-23_02.16.22_UTC.h5'], ['/Volumes/OnyxDASdata/FEB_DATA/decimator_2023-11-23_02.17.22_UTC.h5'], ['/Volumes/OnyxDASdata/FEB_DATA/decimator_2023-11-23_02.18.22_UTC.h5'], ['/Volumes/OnyxDASdata/FEB_DATA/decimator_2023-11-23_02.19.22_UTC.h5'], ['/Volumes/OnyxDASdata/FEB_DATA/decimator_2023-11-23_02.20.22_UTC.h5'], ['/Volumes/OnyxDASdata/FEB_DATA/decimator_2023-11-23_02.21.22_UTC.h5'], ['/Volumes/OnyxDASdata/FEB_DATA/decimator_2023-11-23_02.22.22_UTC.h5'], ['/Volumes/OnyxDASdata/FEB_DATA/decimator_2023-11-23_02.23.22_UTC.h5'], ['/Volumes/OnyxDASdata/FEB_DATA/decimator_2023-11-23_02.24.22_UTC.h5'], ['/Volumes/OnyxDASdata/FEB_DATA/decimator_2023-11-23_02.25.22_UTC.h5'], ['/Volumes/OnyxDASdata/FEB_DATA/decimator_2023-11-23_02.26.22_UTC.h5'], ['/Volumes/OnyxDASdata/FEB_DATA/decimator_2023-11-23_02.27.22_UTC.h5'], ['/Volumes/OnyxDASdata/FEB_DATA/decimator_2023-11-23_02.28.22_UTC.h5'], ['/Volumes/OnyxDASdata/FEB_DATA/decimator_2023-11-23_02.29.22_UTC.h5']]\n",
      "List is empty\n",
      "Stop, missing data: 431921 should be 450000.0\n",
      "2023-11-23 02:30:00, current time 2024-06-10 17:25:18.272664\n",
      "[['/Volumes/OnyxDASdata/FEB_DATA/decimator_2023-11-23_02.29.22_UTC.h5'], ['/Volumes/OnyxDASdata/FEB_DATA/decimator_2023-11-23_02.30.22_UTC.h5'], ['/Volumes/OnyxDASdata/FEB_DATA/decimator_2023-11-23_02.31.22_UTC.h5'], ['/Volumes/OnyxDASdata/FEB_DATA/decimator_2023-11-23_02.32.22_UTC.h5'], ['/Volumes/OnyxDASdata/FEB_DATA/decimator_2023-11-23_02.33.22_UTC.h5'], ['/Volumes/OnyxDASdata/FEB_DATA/decimator_2023-11-23_02.34.22_UTC.h5'], ['/Volumes/OnyxDASdata/FEB_DATA/decimator_2023-11-23_02.35.22_UTC.h5'], ['/Volumes/OnyxDASdata/FEB_DATA/decimator_2023-11-23_02.36.22_UTC.h5'], ['/Volumes/OnyxDASdata/FEB_DATA/decimator_2023-11-23_02.37.22_UTC.h5'], ['/Volumes/OnyxDASdata/FEB_DATA/decimator_2023-11-23_02.38.22_UTC.h5'], ['/Volumes/OnyxDASdata/FEB_DATA/decimator_2023-11-23_02.39.22_UTC.h5'], ['/Volumes/OnyxDASdata/FEB_DATA/decimator_2023-11-23_02.40.22_UTC.h5'], ['/Volumes/OnyxDASdata/FEB_DATA/decimator_2023-11-23_02.41.22_UTC.h5'], ['/Volumes/OnyxDASdata/FEB_DATA/decimator_2023-11-23_02.42.22_UTC.h5'], ['/Volumes/OnyxDASdata/FEB_DATA/decimator_2023-11-23_02.43.22_UTC.h5'], ['/Volumes/OnyxDASdata/FEB_DATA/decimator_2023-11-23_02.44.22_UTC.h5'], ['/Volumes/OnyxDASdata/FEB_DATA/decimator_2023-11-23_02.45.22_UTC.h5'], ['/Volumes/OnyxDASdata/FEB_DATA/decimator_2023-11-23_02.46.22_UTC.h5'], ['/Volumes/OnyxDASdata/FEB_DATA/decimator_2023-11-23_02.47.22_UTC.h5'], ['/Volumes/OnyxDASdata/FEB_DATA/decimator_2023-11-23_02.48.22_UTC.h5'], ['/Volumes/OnyxDASdata/FEB_DATA/decimator_2023-11-23_02.49.22_UTC.h5'], ['/Volumes/OnyxDASdata/FEB_DATA/decimator_2023-11-23_02.50.22_UTC.h5'], ['/Volumes/OnyxDASdata/FEB_DATA/decimator_2023-11-23_02.51.22_UTC.h5'], ['/Volumes/OnyxDASdata/FEB_DATA/decimator_2023-11-23_02.52.22_UTC.h5'], ['/Volumes/OnyxDASdata/FEB_DATA/decimator_2023-11-23_02.53.22_UTC.h5'], ['/Volumes/OnyxDASdata/FEB_DATA/decimator_2023-11-23_02.54.22_UTC.h5'], ['/Volumes/OnyxDASdata/FEB_DATA/decimator_2023-11-23_02.55.22_UTC.h5'], ['/Volumes/OnyxDASdata/FEB_DATA/decimator_2023-11-23_02.56.22_UTC.h5'], ['/Volumes/OnyxDASdata/FEB_DATA/decimator_2023-11-23_02.57.22_UTC.h5'], ['/Volumes/OnyxDASdata/FEB_DATA/decimator_2023-11-23_02.58.22_UTC.h5'], ['/Volumes/OnyxDASdata/FEB_DATA/decimator_2023-11-23_02.59.22_UTC.h5']]\n",
      "Stop, missing data: 445861 should be 450000.0\n",
      "2023-11-23 03:00:00, current time 2024-06-10 17:30:34.986827\n",
      "[['/Volumes/OnyxDASdata/FEB_DATA/decimator_2023-11-23_02.59.22_UTC.h5'], ['/Volumes/OnyxDASdata/FEB_DATA/decimator_2023-11-23_03.00.22_UTC.h5'], ['/Volumes/OnyxDASdata/FEB_DATA/decimator_2023-11-23_03.01.22_UTC.h5'], ['/Volumes/OnyxDASdata/FEB_DATA/decimator_2023-11-23_03.02.22_UTC.h5'], ['/Volumes/OnyxDASdata/FEB_DATA/decimator_2023-11-23_03.03.22_UTC.h5'], ['/Volumes/OnyxDASdata/FEB_DATA/decimator_2023-11-23_03.04.22_UTC.h5'], ['/Volumes/OnyxDASdata/FEB_DATA/decimator_2023-11-23_03.05.22_UTC.h5'], ['/Volumes/OnyxDASdata/FEB_DATA/decimator_2023-11-23_03.06.22_UTC.h5'], ['/Volumes/OnyxDASdata/FEB_DATA/decimator_2023-11-23_03.07.22_UTC.h5'], ['/Volumes/OnyxDASdata/FEB_DATA/decimator_2023-11-23_03.08.22_UTC.h5'], ['/Volumes/OnyxDASdata/FEB_DATA/decimator_2023-11-23_03.09.22_UTC.h5'], ['/Volumes/OnyxDASdata/FEB_DATA/decimator_2023-11-23_03.10.22_UTC.h5'], ['/Volumes/OnyxDASdata/FEB_DATA/decimator_2023-11-23_03.11.22_UTC.h5'], ['/Volumes/OnyxDASdata/FEB_DATA/decimator_2023-11-23_03.12.22_UTC.h5'], ['/Volumes/OnyxDASdata/FEB_DATA/decimator_2023-11-23_03.13.22_UTC.h5'], ['/Volumes/OnyxDASdata/FEB_DATA/decimator_2023-11-23_03.14.22_UTC.h5'], ['/Volumes/OnyxDASdata/FEB_DATA/decimator_2023-11-23_03.15.22_UTC.h5'], ['/Volumes/OnyxDASdata/FEB_DATA/decimator_2023-11-23_03.16.22_UTC.h5'], ['/Volumes/OnyxDASdata/FEB_DATA/decimator_2023-11-23_03.17.22_UTC.h5'], ['/Volumes/OnyxDASdata/FEB_DATA/decimator_2023-11-23_03.18.22_UTC.h5'], ['/Volumes/OnyxDASdata/FEB_DATA/decimator_2023-11-23_03.19.22_UTC.h5'], ['/Volumes/OnyxDASdata/FEB_DATA/decimator_2023-11-23_03.20.22_UTC.h5'], ['/Volumes/OnyxDASdata/FEB_DATA/decimator_2023-11-23_03.21.22_UTC.h5'], ['/Volumes/OnyxDASdata/FEB_DATA/decimator_2023-11-23_03.22.22_UTC.h5'], ['/Volumes/OnyxDASdata/FEB_DATA/decimator_2023-11-23_03.23.22_UTC.h5'], ['/Volumes/OnyxDASdata/FEB_DATA/decimator_2023-11-23_03.24.22_UTC.h5'], ['/Volumes/OnyxDASdata/FEB_DATA/decimator_2023-11-23_03.25.22_UTC.h5'], ['/Volumes/OnyxDASdata/FEB_DATA/decimator_2023-11-23_03.26.22_UTC.h5'], ['/Volumes/OnyxDASdata/FEB_DATA/decimator_2023-11-23_03.27.22_UTC.h5'], ['/Volumes/OnyxDASdata/FEB_DATA/decimator_2023-11-23_03.28.22_UTC.h5'], ['/Volumes/OnyxDASdata/FEB_DATA/decimator_2023-11-23_03.29.22_UTC.h5']]\n"
     ]
    },
    {
     "ename": "OSError",
     "evalue": "Unable to open file (truncated file: eof = 6291456, sblock->base_addr = 0, stored_eof = 78385912)",
     "output_type": "error",
     "traceback": [
      "\u001b[0;31m---------------------------------------------------------------------------\u001b[0m",
      "\u001b[0;31mOSError\u001b[0m                                   Traceback (most recent call last)",
      "\u001b[0;32m<ipython-input-262-2da95d3676b1>\u001b[0m in \u001b[0;36m<module>\u001b[0;34m\u001b[0m\n\u001b[1;32m     22\u001b[0m \u001b[0;32mfor\u001b[0m \u001b[0mdi\u001b[0m \u001b[0;32min\u001b[0m \u001b[0mdatetime_range\u001b[0m\u001b[0;34m(\u001b[0m\u001b[0mstart_time\u001b[0m\u001b[0;34m,\u001b[0m \u001b[0mend_time\u001b[0m\u001b[0;34m,\u001b[0m \u001b[0mtimedelta\u001b[0m\u001b[0;34m(\u001b[0m\u001b[0mminutes\u001b[0m\u001b[0;34m=\u001b[0m\u001b[0;36m30\u001b[0m\u001b[0;34m)\u001b[0m\u001b[0;34m)\u001b[0m\u001b[0;34m:\u001b[0m\u001b[0;34m\u001b[0m\u001b[0;34m\u001b[0m\u001b[0m\n\u001b[1;32m     23\u001b[0m     \u001b[0mprint\u001b[0m\u001b[0;34m(\u001b[0m\u001b[0mstr\u001b[0m\u001b[0;34m(\u001b[0m\u001b[0mdi\u001b[0m\u001b[0;34m)\u001b[0m\u001b[0;34m+\u001b[0m\u001b[0;34m', current time '\u001b[0m\u001b[0;34m+\u001b[0m\u001b[0mstr\u001b[0m\u001b[0;34m(\u001b[0m\u001b[0mdatetime\u001b[0m\u001b[0;34m.\u001b[0m\u001b[0mnow\u001b[0m\u001b[0;34m(\u001b[0m\u001b[0;34m)\u001b[0m\u001b[0;34m)\u001b[0m\u001b[0;34m)\u001b[0m\u001b[0;34m\u001b[0m\u001b[0;34m\u001b[0m\u001b[0m\n\u001b[0;32m---> 24\u001b[0;31m     \u001b[0mds_DAS_chunk\u001b[0m \u001b[0;34m=\u001b[0m \u001b[0mload_h5_into_xr_chunk\u001b[0m\u001b[0;34m(\u001b[0m\u001b[0monyx_path\u001b[0m\u001b[0;34m,\u001b[0m \u001b[0mdi\u001b[0m\u001b[0;34m,\u001b[0m \u001b[0mtime_chunk\u001b[0m\u001b[0;34m)\u001b[0m\u001b[0;34m\u001b[0m\u001b[0;34m\u001b[0m\u001b[0m\n\u001b[0m\u001b[1;32m     25\u001b[0m     \u001b[0mstrain_deci_butter_all\u001b[0m \u001b[0;34m=\u001b[0m \u001b[0mdas_butterworth_decimate_xarray\u001b[0m\u001b[0;34m(\u001b[0m\u001b[0mds_DAS_chunk\u001b[0m\u001b[0;34m,\u001b[0m\u001b[0mfs_target\u001b[0m\u001b[0;34m)\u001b[0m\u001b[0;34m\u001b[0m\u001b[0;34m\u001b[0m\u001b[0m\n\u001b[1;32m     26\u001b[0m \u001b[0;34m\u001b[0m\u001b[0m\n",
      "\u001b[0;32m<ipython-input-259-7d809dfc7b02>\u001b[0m in \u001b[0;36mload_h5_into_xr_chunk\u001b[0;34m(base_path, time_target, time_chunk)\u001b[0m\n\u001b[1;32m     12\u001b[0m         \u001b[0;32melse\u001b[0m\u001b[0;34m:\u001b[0m \u001b[0;31m#only continue if there is a fule\u001b[0m\u001b[0;34m\u001b[0m\u001b[0;34m\u001b[0m\u001b[0m\n\u001b[1;32m     13\u001b[0m \u001b[0;34m\u001b[0m\u001b[0m\n\u001b[0;32m---> 14\u001b[0;31m             \u001b[0mf\u001b[0m \u001b[0;34m=\u001b[0m \u001b[0mh5\u001b[0m\u001b[0;34m.\u001b[0m\u001b[0mFile\u001b[0m\u001b[0;34m(\u001b[0m\u001b[0mfi\u001b[0m\u001b[0;34m[\u001b[0m\u001b[0;36m0\u001b[0m\u001b[0;34m]\u001b[0m\u001b[0;34m,\u001b[0m\u001b[0;34m'r'\u001b[0m\u001b[0;34m)\u001b[0m\u001b[0;34m\u001b[0m\u001b[0;34m\u001b[0m\u001b[0m\n\u001b[0m\u001b[1;32m     15\u001b[0m \u001b[0;34m\u001b[0m\u001b[0m\n\u001b[1;32m     16\u001b[0m             \u001b[0;31m#data and key parameters\u001b[0m\u001b[0;34m\u001b[0m\u001b[0;34m\u001b[0m\u001b[0;34m\u001b[0m\u001b[0m\n",
      "\u001b[0;32m~/miniconda3/envs/CMIP6-201910/lib/python3.7/site-packages/h5py/_hl/files.py\u001b[0m in \u001b[0;36m__init__\u001b[0;34m(self, name, mode, driver, libver, userblock_size, swmr, rdcc_nslots, rdcc_nbytes, rdcc_w0, track_order, **kwds)\u001b[0m\n\u001b[1;32m    406\u001b[0m                 fid = make_fid(name, mode, userblock_size,\n\u001b[1;32m    407\u001b[0m                                \u001b[0mfapl\u001b[0m\u001b[0;34m,\u001b[0m \u001b[0mfcpl\u001b[0m\u001b[0;34m=\u001b[0m\u001b[0mmake_fcpl\u001b[0m\u001b[0;34m(\u001b[0m\u001b[0mtrack_order\u001b[0m\u001b[0;34m=\u001b[0m\u001b[0mtrack_order\u001b[0m\u001b[0;34m)\u001b[0m\u001b[0;34m,\u001b[0m\u001b[0;34m\u001b[0m\u001b[0;34m\u001b[0m\u001b[0m\n\u001b[0;32m--> 408\u001b[0;31m                                swmr=swmr)\n\u001b[0m\u001b[1;32m    409\u001b[0m \u001b[0;34m\u001b[0m\u001b[0m\n\u001b[1;32m    410\u001b[0m             \u001b[0;32mif\u001b[0m \u001b[0misinstance\u001b[0m\u001b[0;34m(\u001b[0m\u001b[0mlibver\u001b[0m\u001b[0;34m,\u001b[0m \u001b[0mtuple\u001b[0m\u001b[0;34m)\u001b[0m\u001b[0;34m:\u001b[0m\u001b[0;34m\u001b[0m\u001b[0;34m\u001b[0m\u001b[0m\n",
      "\u001b[0;32m~/miniconda3/envs/CMIP6-201910/lib/python3.7/site-packages/h5py/_hl/files.py\u001b[0m in \u001b[0;36mmake_fid\u001b[0;34m(name, mode, userblock_size, fapl, fcpl, swmr)\u001b[0m\n\u001b[1;32m    171\u001b[0m         \u001b[0;32mif\u001b[0m \u001b[0mswmr\u001b[0m \u001b[0;32mand\u001b[0m \u001b[0mswmr_support\u001b[0m\u001b[0;34m:\u001b[0m\u001b[0;34m\u001b[0m\u001b[0;34m\u001b[0m\u001b[0m\n\u001b[1;32m    172\u001b[0m             \u001b[0mflags\u001b[0m \u001b[0;34m|=\u001b[0m \u001b[0mh5f\u001b[0m\u001b[0;34m.\u001b[0m\u001b[0mACC_SWMR_READ\u001b[0m\u001b[0;34m\u001b[0m\u001b[0;34m\u001b[0m\u001b[0m\n\u001b[0;32m--> 173\u001b[0;31m         \u001b[0mfid\u001b[0m \u001b[0;34m=\u001b[0m \u001b[0mh5f\u001b[0m\u001b[0;34m.\u001b[0m\u001b[0mopen\u001b[0m\u001b[0;34m(\u001b[0m\u001b[0mname\u001b[0m\u001b[0;34m,\u001b[0m \u001b[0mflags\u001b[0m\u001b[0;34m,\u001b[0m \u001b[0mfapl\u001b[0m\u001b[0;34m=\u001b[0m\u001b[0mfapl\u001b[0m\u001b[0;34m)\u001b[0m\u001b[0;34m\u001b[0m\u001b[0;34m\u001b[0m\u001b[0m\n\u001b[0m\u001b[1;32m    174\u001b[0m     \u001b[0;32melif\u001b[0m \u001b[0mmode\u001b[0m \u001b[0;34m==\u001b[0m \u001b[0;34m'r+'\u001b[0m\u001b[0;34m:\u001b[0m\u001b[0;34m\u001b[0m\u001b[0;34m\u001b[0m\u001b[0m\n\u001b[1;32m    175\u001b[0m         \u001b[0mfid\u001b[0m \u001b[0;34m=\u001b[0m \u001b[0mh5f\u001b[0m\u001b[0;34m.\u001b[0m\u001b[0mopen\u001b[0m\u001b[0;34m(\u001b[0m\u001b[0mname\u001b[0m\u001b[0;34m,\u001b[0m \u001b[0mh5f\u001b[0m\u001b[0;34m.\u001b[0m\u001b[0mACC_RDWR\u001b[0m\u001b[0;34m,\u001b[0m \u001b[0mfapl\u001b[0m\u001b[0;34m=\u001b[0m\u001b[0mfapl\u001b[0m\u001b[0;34m)\u001b[0m\u001b[0;34m\u001b[0m\u001b[0;34m\u001b[0m\u001b[0m\n",
      "\u001b[0;32mh5py/_objects.pyx\u001b[0m in \u001b[0;36mh5py._objects.with_phil.wrapper\u001b[0;34m()\u001b[0m\n",
      "\u001b[0;32mh5py/_objects.pyx\u001b[0m in \u001b[0;36mh5py._objects.with_phil.wrapper\u001b[0;34m()\u001b[0m\n",
      "\u001b[0;32mh5py/h5f.pyx\u001b[0m in \u001b[0;36mh5py.h5f.open\u001b[0;34m()\u001b[0m\n",
      "\u001b[0;31mOSError\u001b[0m: Unable to open file (truncated file: eof = 6291456, sblock->base_addr = 0, stored_eof = 78385912)"
     ]
    }
   ],
   "source": [
    "time_chunk = 30 #min files \n",
    "fs_target = 5 #target frequency, Hz\n",
    "\n",
    "#files to read in for target time \n",
    "onyx_path = '/Volumes/OnyxDASdata/FEB_DATA/'\n",
    "\n",
    "#range of target times\n",
    "start_time = datetime(2023, 11, 23, 3, 0) #2023,11,22,0,0 having issues matching strain length to time length... \n",
    "end_time = datetime(2023, 12, 18, 0, 0)\n",
    "\n",
    "def datetime_range(start, end, delta):\n",
    "    current = start\n",
    "    while current < end:\n",
    "        yield current\n",
    "        current += delta\n",
    "#time_target = datetime(2023,11,22,0,0,0)\n",
    "#ds_DAS_chunk = load_h5_into_xr_chunk(onyx_path, time_target, time_chunk)\n",
    "\n",
    "#directory for saving decimated\n",
    "dir_5hz = '/Users/msmith/Documents/DAS/MVCO/202311_MVCO/Onyx_DASdata_5hz/'\n",
    "\n",
    "for di in datetime_range(start_time, end_time, timedelta(minutes=30)):\n",
    "    print(str(di)+', current time '+str(datetime.now()))\n",
    "    ds_DAS_chunk = load_h5_into_xr_chunk(onyx_path, di, time_chunk)\n",
    "    strain_deci_butter_all = das_butterworth_decimate_xarray(ds_DAS_chunk,fs_target)\n",
    "    \n",
    "    strain_deci_butter_all.to_netcdf(dir_5hz+'Onyx_'+datetime.strftime(di,'%Y-%m-%d_%H.%M')+'_'+str(fs_target)+'hz.nc')\n"
   ]
  },
  {
   "cell_type": "code",
   "execution_count": 143,
   "metadata": {},
   "outputs": [],
   "source": []
  },
  {
   "cell_type": "code",
   "execution_count": 144,
   "metadata": {},
   "outputs": [],
   "source": [
    "\n"
   ]
  },
  {
   "cell_type": "code",
   "execution_count": 146,
   "metadata": {},
   "outputs": [],
   "source": [
    "\n"
   ]
  },
  {
   "cell_type": "markdown",
   "metadata": {},
   "source": [
    "# TO DO \n",
    "- loop through multiple folders to get all 30 min as needed (for FEB_DATA_2)"
   ]
  },
  {
   "cell_type": "code",
   "execution_count": null,
   "metadata": {},
   "outputs": [],
   "source": []
  },
  {
   "cell_type": "code",
   "execution_count": null,
   "metadata": {},
   "outputs": [],
   "source": []
  }
 ],
 "metadata": {
  "kernelspec": {
   "display_name": "Python 3",
   "language": "python",
   "name": "python3"
  },
  "language_info": {
   "codemirror_mode": {
    "name": "ipython",
    "version": 3
   },
   "file_extension": ".py",
   "mimetype": "text/x-python",
   "name": "python",
   "nbconvert_exporter": "python",
   "pygments_lexer": "ipython3",
   "version": "3.7.6"
  }
 },
 "nbformat": 4,
 "nbformat_minor": 4
}
